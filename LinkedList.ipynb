{
 "cells": [
  {
   "cell_type": "code",
   "execution_count": 2,
   "id": "d827e3d3",
   "metadata": {},
   "outputs": [],
   "source": [
    "class Node:\n",
    "    def __init__(self, data = None):\n",
    "        self.val = data\n",
    "        self.next = None\n",
    "      "
   ]
  },
  {
   "cell_type": "code",
   "execution_count": 3,
   "id": "7d1a1318",
   "metadata": {},
   "outputs": [],
   "source": [
    "class LinkedList:\n",
    "    def __init__(self):\n",
    "        self.head = None\n",
    "        \n",
    "    def __str__(self):\n",
    "        ret = '['\n",
    "        last = self.head\n",
    "        while last is not None:\n",
    "            ret += str(last.val) + ', '\n",
    "            last = last.next\n",
    "           \n",
    "        ret = ret.rstrip(', ')\n",
    "        ret += ']' \n",
    "        return ret\n",
    "l =  LinkedList()        "
   ]
  },
  {
   "cell_type": "markdown",
   "id": "7d7eb237",
   "metadata": {},
   "source": [
    "# Push "
   ]
  },
  {
   "cell_type": "markdown",
   "id": "9e36cbde",
   "metadata": {},
   "source": [
    "Push Operation has two cases.<br>\n",
    "    1. When there are no nodes.<br>\n",
    "    2. When there are one or more nodes."
   ]
  },
  {
   "cell_type": "code",
   "execution_count": 4,
   "id": "9327df72",
   "metadata": {},
   "outputs": [],
   "source": [
    "def push(self, data):\n",
    "    node = Node(data)\n",
    "    if self.head is None:\n",
    "        print(\"Case 1\")\n",
    "        self.head = node\n",
    "        return\n",
    "    current = self.head\n",
    "    while current.next is not None:\n",
    "        current = current.next\n",
    "    current.next = node    \n",
    "LinkedList.push = push"
   ]
  },
  {
   "cell_type": "code",
   "execution_count": 5,
   "id": "350f2304",
   "metadata": {},
   "outputs": [
    {
     "name": "stdout",
     "output_type": "stream",
     "text": [
      "Case 1\n"
     ]
    }
   ],
   "source": [
    "l.push(1)"
   ]
  },
  {
   "cell_type": "code",
   "execution_count": 6,
   "id": "8e0297e9",
   "metadata": {},
   "outputs": [],
   "source": [
    "l.push(2)\n",
    "l.push(3)\n",
    "l.push(4)\n",
    "l.push(5)"
   ]
  },
  {
   "cell_type": "code",
   "execution_count": 7,
   "id": "f659d27b",
   "metadata": {},
   "outputs": [
    {
     "name": "stdout",
     "output_type": "stream",
     "text": [
      "[1, 2, 3, 4, 5]\n"
     ]
    }
   ],
   "source": [
    "print(l)"
   ]
  },
  {
   "cell_type": "markdown",
   "id": "c505ae87",
   "metadata": {},
   "source": [
    "# Pop"
   ]
  },
  {
   "cell_type": "markdown",
   "id": "99020840",
   "metadata": {},
   "source": [
    "POP has two cases.<br>\n",
    "1. When there's only one node. <br>\n",
    "2. Where there are two or more nodes. <br>"
   ]
  },
  {
   "cell_type": "code",
   "execution_count": 8,
   "id": "4e05cd69",
   "metadata": {},
   "outputs": [],
   "source": [
    "def pop(self):\n",
    "    current = self.head\n",
    "    if self.head.next is None: #when there's only one Node\n",
    "        self.head = None\n",
    "        print('Case1')\n",
    "        return current.val\n",
    "    #where there are two or more nodes\n",
    "    while current.next is not None:\n",
    "        prev = current\n",
    "        current = current.next\n",
    "    print('Case2')    \n",
    "    val = current.val    \n",
    "    prev.next = None\n",
    "    return val\n",
    "        \n",
    "LinkedList.pop = pop"
   ]
  },
  {
   "cell_type": "code",
   "execution_count": null,
   "id": "d4badf75",
   "metadata": {},
   "outputs": [],
   "source": []
  },
  {
   "cell_type": "code",
   "execution_count": 9,
   "id": "956c78d2",
   "metadata": {},
   "outputs": [
    {
     "name": "stdout",
     "output_type": "stream",
     "text": [
      "Case2\n"
     ]
    },
    {
     "data": {
      "text/plain": [
       "5"
      ]
     },
     "execution_count": 9,
     "metadata": {},
     "output_type": "execute_result"
    }
   ],
   "source": [
    "l.pop()"
   ]
  },
  {
   "cell_type": "code",
   "execution_count": 10,
   "id": "ecd3dbc8",
   "metadata": {},
   "outputs": [
    {
     "name": "stdout",
     "output_type": "stream",
     "text": [
      "[1, 2, 3, 4]\n"
     ]
    }
   ],
   "source": [
    "print(l)"
   ]
  },
  {
   "cell_type": "markdown",
   "id": "72ca09fa",
   "metadata": {},
   "source": [
    "# Insert\n"
   ]
  },
  {
   "cell_type": "code",
   "execution_count": 11,
   "id": "d0b70066",
   "metadata": {},
   "outputs": [],
   "source": [
    "def insert(self,data, index):\n",
    "    node = Node(data)\n",
    "    if index == 0:        \n",
    "        self.head, node.next = node, self.head\n",
    "        return\n",
    "    curr = self.head\n",
    "    count = 0\n",
    "    while curr is not None and count < index:\n",
    "        prev = curr\n",
    "        curr = curr.next\n",
    "        count += 1\n",
    "    prev.next = node\n",
    "    node.next = curr\n",
    "LinkedList.insert = insert"
   ]
  },
  {
   "cell_type": "code",
   "execution_count": 12,
   "id": "6eb2661d",
   "metadata": {},
   "outputs": [
    {
     "name": "stdout",
     "output_type": "stream",
     "text": [
      "Case 1\n"
     ]
    }
   ],
   "source": [
    "l = LinkedList()\n",
    "l.push(1)\n",
    "l.push(2)\n",
    "l.push(3)\n",
    "l.push(4)\n",
    "l.push(5)\n"
   ]
  },
  {
   "cell_type": "code",
   "execution_count": 13,
   "id": "69513682",
   "metadata": {},
   "outputs": [
    {
     "name": "stdout",
     "output_type": "stream",
     "text": [
      "[1, 2, 3, 4, 5]\n"
     ]
    }
   ],
   "source": [
    "print(l)"
   ]
  },
  {
   "cell_type": "code",
   "execution_count": 14,
   "id": "e173b428",
   "metadata": {},
   "outputs": [
    {
     "name": "stdout",
     "output_type": "stream",
     "text": [
      "[10, 1, 2, 3, 4, 5]\n"
     ]
    }
   ],
   "source": [
    "l.insert(10,0)\n",
    "print(l)"
   ]
  },
  {
   "cell_type": "code",
   "execution_count": 15,
   "id": "775278c6",
   "metadata": {},
   "outputs": [],
   "source": [
    "def remove(self,val):\n",
    "    current = self.head\n",
    "    if current is not None and current.val == val:\n",
    "        self.head = current.next\n",
    "        return\n",
    "    \n",
    "    while current is not None: \n",
    "        if current.val == val:\n",
    "            prev.next = current.next\n",
    "            break\n",
    "        prev = current\n",
    "        current = current.next    \n",
    "          \n",
    "        \n",
    "\n",
    "\n",
    "# Assign the remove function to the LinkedList class\n",
    "LinkedList.remove = remove\n",
    "\n",
    "\n",
    "        "
   ]
  },
  {
   "cell_type": "code",
   "execution_count": 16,
   "id": "0806ef0c",
   "metadata": {},
   "outputs": [
    {
     "name": "stdout",
     "output_type": "stream",
     "text": [
      "[10, 1, 2, 3, 4, 5]\n"
     ]
    }
   ],
   "source": [
    "l.remove(6)\n",
    "print(l)"
   ]
  },
  {
   "cell_type": "code",
   "execution_count": 17,
   "id": "ae3e8874",
   "metadata": {},
   "outputs": [],
   "source": [
    "def list_len(self):\n",
    "    temp = self.head\n",
    "    count = 0\n",
    "    if temp is None:\n",
    "        return 0\n",
    "    while temp is not None:\n",
    "        temp = temp.next\n",
    "        count += 1\n",
    "    return count  \n",
    "LinkedList.list_len = list_len\n",
    "\n"
   ]
  },
  {
   "cell_type": "code",
   "execution_count": 18,
   "id": "f7cf9f42",
   "metadata": {},
   "outputs": [
    {
     "data": {
      "text/plain": [
       "6"
      ]
     },
     "execution_count": 18,
     "metadata": {},
     "output_type": "execute_result"
    }
   ],
   "source": [
    "l.list_len()"
   ]
  },
  {
   "cell_type": "code",
   "execution_count": 21,
   "id": "dd7d7a1d",
   "metadata": {},
   "outputs": [],
   "source": [
    "def get_index(self,index):\n",
    "    temp = self.head\n",
    "    count = 0\n",
    "    if temp is None:\n",
    "        return\n",
    "    while temp is not None:\n",
    "        if count == index:\n",
    "            return temp.val\n",
    "        temp = temp.next\n",
    "        count += 1\n",
    "LinkedList.get_index = get_index"
   ]
  },
  {
   "cell_type": "code",
   "execution_count": 25,
   "id": "219bc20f",
   "metadata": {},
   "outputs": [],
   "source": [
    "l.get_index(6)"
   ]
  },
  {
   "cell_type": "markdown",
   "id": "28d20c1e",
   "metadata": {},
   "source": [
    " "
   ]
  },
  {
   "cell_type": "code",
   "execution_count": null,
   "id": "0d37523e",
   "metadata": {},
   "outputs": [],
   "source": []
  },
  {
   "cell_type": "code",
   "execution_count": null,
   "id": "88390bff",
   "metadata": {},
   "outputs": [],
   "source": []
  },
  {
   "cell_type": "code",
   "execution_count": null,
   "id": "2d212461",
   "metadata": {},
   "outputs": [],
   "source": []
  },
  {
   "cell_type": "code",
   "execution_count": null,
   "id": "ad4c8acb",
   "metadata": {},
   "outputs": [],
   "source": []
  },
  {
   "cell_type": "code",
   "execution_count": null,
   "id": "8246558e",
   "metadata": {},
   "outputs": [],
   "source": []
  },
  {
   "cell_type": "code",
   "execution_count": null,
   "id": "db0ff8bd",
   "metadata": {},
   "outputs": [],
   "source": []
  },
  {
   "cell_type": "code",
   "execution_count": null,
   "id": "f224b7c6",
   "metadata": {},
   "outputs": [],
   "source": []
  },
  {
   "cell_type": "code",
   "execution_count": null,
   "id": "5068e7ed",
   "metadata": {},
   "outputs": [],
   "source": []
  },
  {
   "cell_type": "code",
   "execution_count": null,
   "id": "4bf72dc3",
   "metadata": {},
   "outputs": [],
   "source": []
  },
  {
   "cell_type": "code",
   "execution_count": null,
   "id": "80872f91",
   "metadata": {},
   "outputs": [],
   "source": []
  }
 ],
 "metadata": {
  "kernelspec": {
   "display_name": "Python 3 (ipykernel)",
   "language": "python",
   "name": "python3"
  },
  "language_info": {
   "codemirror_mode": {
    "name": "ipython",
    "version": 3
   },
   "file_extension": ".py",
   "mimetype": "text/x-python",
   "name": "python",
   "nbconvert_exporter": "python",
   "pygments_lexer": "ipython3",
   "version": "3.11.5"
  }
 },
 "nbformat": 4,
 "nbformat_minor": 5
}
