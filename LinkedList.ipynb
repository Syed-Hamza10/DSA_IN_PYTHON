{
 "cells": [
  {
   "cell_type": "code",
   "execution_count": 244,
   "id": "88641dca",
   "metadata": {},
   "outputs": [],
   "source": [
    "class Node:\n",
    "    def __init__(self, data = None):\n",
    "        self.val = data\n",
    "        self.next = None\n",
    "      "
   ]
  },
  {
   "cell_type": "code",
   "execution_count": 245,
   "id": "e8c5f2bd",
   "metadata": {},
   "outputs": [],
   "source": [
    "class LinkedList:\n",
    "    def __init__(self):\n",
    "        self.head = None\n",
    "        \n",
    "    def __str__(self):\n",
    "        ret = '['\n",
    "        last = self.head\n",
    "        while last is not None:\n",
    "            ret += str(last.val) + ', '\n",
    "            last = last.next\n",
    "           \n",
    "        ret = ret.rstrip(', ')\n",
    "        ret += ']' \n",
    "        return ret\n",
    "l =  LinkedList()        "
   ]
  },
  {
   "cell_type": "markdown",
   "id": "e9aa9e29",
   "metadata": {},
   "source": [
    "# Push "
   ]
  },
  {
   "cell_type": "markdown",
   "id": "92086a56",
   "metadata": {},
   "source": [
    "Push Operation has two cases.<br>\n",
    "    1. When there are no nodes.<br>\n",
    "    2. When there are one or more nodes."
   ]
  },
  {
   "cell_type": "code",
   "execution_count": 246,
   "id": "abc882b5",
   "metadata": {},
   "outputs": [],
   "source": [
    "def push(self, data):\n",
    "    node = Node(data)\n",
    "    if self.head is None:\n",
    "        print(\"Case 1\")\n",
    "        self.head = node\n",
    "        return\n",
    "    current = self.head\n",
    "    while current.next is not None:\n",
    "        current = current.next\n",
    "    current.next = node    \n",
    "LinkedList.push = push"
   ]
  },
  {
   "cell_type": "code",
   "execution_count": 247,
   "id": "46bc1d5b",
   "metadata": {},
   "outputs": [
    {
     "name": "stdout",
     "output_type": "stream",
     "text": [
      "Case 1\n"
     ]
    }
   ],
   "source": [
    "l.push(1)"
   ]
  },
  {
   "cell_type": "code",
   "execution_count": 248,
   "id": "67b2a39a",
   "metadata": {},
   "outputs": [],
   "source": [
    "l.push(2)\n",
    "l.push(3)\n",
    "l.push(4)\n",
    "l.push(5)"
   ]
  },
  {
   "cell_type": "code",
   "execution_count": 249,
   "id": "649bb02d",
   "metadata": {},
   "outputs": [
    {
     "name": "stdout",
     "output_type": "stream",
     "text": [
      "[1, 2, 3, 4, 5]\n"
     ]
    }
   ],
   "source": [
    "print(l)"
   ]
  },
  {
   "cell_type": "markdown",
   "id": "292986be",
   "metadata": {},
   "source": [
    "# Pop"
   ]
  },
  {
   "cell_type": "markdown",
   "id": "7ffc140a",
   "metadata": {},
   "source": [
    "POP has two cases.<br>\n",
    "1. When there's only one node. <br>\n",
    "2. Where there are two or more nodes. <br>"
   ]
  },
  {
   "cell_type": "code",
   "execution_count": 250,
   "id": "a95c0ba8",
   "metadata": {},
   "outputs": [],
   "source": [
    "def pop(self):\n",
    "    current = self.head\n",
    "    if self.head.next is None: #when there's only one Node\n",
    "        self.head = None\n",
    "        print('Case1')\n",
    "        return current.val\n",
    "    #where there are two or more nodes\n",
    "    while current.next is not None:\n",
    "        prev = current\n",
    "        current = current.next\n",
    "    print('Case2')    \n",
    "    val = current.val    \n",
    "    prev.next = None\n",
    "    return val\n",
    "        \n",
    "LinkedList.pop = pop"
   ]
  },
  {
   "cell_type": "code",
   "execution_count": null,
   "id": "873bef9e",
   "metadata": {},
   "outputs": [],
   "source": []
  },
  {
   "cell_type": "code",
   "execution_count": 251,
   "id": "c61a130d",
   "metadata": {},
   "outputs": [
    {
     "name": "stdout",
     "output_type": "stream",
     "text": [
      "Case2\n"
     ]
    },
    {
     "data": {
      "text/plain": [
       "5"
      ]
     },
     "execution_count": 251,
     "metadata": {},
     "output_type": "execute_result"
    }
   ],
   "source": [
    "l.pop()"
   ]
  },
  {
   "cell_type": "code",
   "execution_count": 252,
   "id": "3f4df6a9",
   "metadata": {},
   "outputs": [
    {
     "name": "stdout",
     "output_type": "stream",
     "text": [
      "[1, 2, 3, 4]\n"
     ]
    }
   ],
   "source": [
    "print(l)"
   ]
  },
  {
   "cell_type": "markdown",
   "id": "af4c5747",
   "metadata": {},
   "source": [
    "# Insert\n"
   ]
  },
  {
   "cell_type": "code",
   "execution_count": 253,
   "id": "d159500e",
   "metadata": {},
   "outputs": [],
   "source": [
    "def insert(self,data, index):\n",
    "    node = Node(data)\n",
    "    if index == 0:        \n",
    "        self.head, node.next = node, self.head\n",
    "        return\n",
    "    curr = self.head\n",
    "    count = 0\n",
    "    while curr is not None and count < index:\n",
    "        prev = curr\n",
    "        curr = curr.next\n",
    "        count += 1\n",
    "    prev.next = node\n",
    "    node.next = curr\n",
    "LinkedList.insert = insert"
   ]
  },
  {
   "cell_type": "code",
   "execution_count": 288,
   "id": "d0999427",
   "metadata": {},
   "outputs": [
    {
     "name": "stdout",
     "output_type": "stream",
     "text": [
      "Case 1\n"
     ]
    }
   ],
   "source": [
    "l = LinkedList()\n",
    "l.push(1)\n",
    "l.push(2)\n",
    "l.push(3)\n",
    "l.push(4)\n",
    "l.push(5)\n"
   ]
  },
  {
   "cell_type": "code",
   "execution_count": 289,
   "id": "ffaa1d95",
   "metadata": {},
   "outputs": [
    {
     "name": "stdout",
     "output_type": "stream",
     "text": [
      "[1, 2, 3, 4, 5]\n"
     ]
    }
   ],
   "source": [
    "print(l)"
   ]
  },
  {
   "cell_type": "code",
   "execution_count": 290,
   "id": "21a015e6",
   "metadata": {},
   "outputs": [
    {
     "name": "stdout",
     "output_type": "stream",
     "text": [
      "[10, 1, 2, 3, 4, 5]\n"
     ]
    }
   ],
   "source": [
    "l.insert(10,0)\n",
    "print(l)"
   ]
  },
  {
   "cell_type": "code",
   "execution_count": 293,
   "id": "ba748dee",
   "metadata": {},
   "outputs": [],
   "source": [
    "def remove(self,val):\n",
    "    current = self.head\n",
    "    if current is not None and current.val == val:\n",
    "        self.head = current.next\n",
    "        return\n",
    "    \n",
    "    while current is not None: \n",
    "        if current.val == val:\n",
    "            prev.next = current.next\n",
    "            break\n",
    "        prev = current\n",
    "        current = current.next    \n",
    "          \n",
    "        \n",
    "\n",
    "\n",
    "# Assign the remove function to the LinkedList class\n",
    "LinkedList.remove = remove\n",
    "\n",
    "\n",
    "        "
   ]
  },
  {
   "cell_type": "code",
   "execution_count": 294,
   "id": "88e6ad38",
   "metadata": {},
   "outputs": [
    {
     "name": "stdout",
     "output_type": "stream",
     "text": [
      "[10, 1, 2, 3, 4]\n"
     ]
    }
   ],
   "source": [
    "l.remove(6)\n",
    "print(l)"
   ]
  },
  {
   "cell_type": "markdown",
   "id": "cd382546",
   "metadata": {},
   "source": []
  }
 ],
 "metadata": {
  "kernelspec": {
   "display_name": "Python 3 (ipykernel)",
   "language": "python",
   "name": "python3"
  },
  "language_info": {
   "codemirror_mode": {
    "name": "ipython",
    "version": 3
   },
   "file_extension": ".py",
   "mimetype": "text/x-python",
   "name": "python",
   "nbconvert_exporter": "python",
   "pygments_lexer": "ipython3",
   "version": "3.11.5"
  }
 },
 "nbformat": 4,
 "nbformat_minor": 5
}
