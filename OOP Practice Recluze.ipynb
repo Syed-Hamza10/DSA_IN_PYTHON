{
 "cells": [
  {
   "cell_type": "code",
   "execution_count": null,
   "id": "728bbc41",
   "metadata": {},
   "outputs": [],
   "source": [
    "class Point:\n",
    "    def __init__(self,x = 0 ,y = 0):\n",
    "        self.x = x\n",
    "        self.y = y\n",
    "    def __str__(self):      #called dunder functions bcz of __ double Underscores\n",
    "        return f'({str(self.x)},{str(self.y)})'\n",
    "    def get_human_readable_form(self):\n",
    "        return f'({str(self.x)},{str(self.y)})'\n",
    "    "
   ]
  },
  {
   "cell_type": "code",
   "execution_count": 82,
   "id": "7918aa35",
   "metadata": {},
   "outputs": [],
   "source": [
    "p1 = Point(2,3)\n"
   ]
  },
  {
   "cell_type": "code",
   "execution_count": 83,
   "id": "902916db",
   "metadata": {},
   "outputs": [
    {
     "name": "stdout",
     "output_type": "stream",
     "text": [
      "(2,3)\n"
     ]
    }
   ],
   "source": [
    "print(p1) #this without __str__ is a pointer which points towards a object which is Point(2,3)"
   ]
  },
  {
   "cell_type": "code",
   "execution_count": 84,
   "id": "e639d1d5",
   "metadata": {},
   "outputs": [
    {
     "data": {
      "text/plain": [
       "'(2,3)'"
      ]
     },
     "execution_count": 84,
     "metadata": {},
     "output_type": "execute_result"
    }
   ],
   "source": [
    "p1.get_human_readable_form() #it is equal to print(p1) when dunder string is added"
   ]
  },
  {
   "cell_type": "code",
   "execution_count": 85,
   "id": "5d10fa20",
   "metadata": {},
   "outputs": [
    {
     "name": "stdout",
     "output_type": "stream",
     "text": [
      "(2,3)\n"
     ]
    }
   ],
   "source": [
    "print(p1)  #self is passed by python interpreter\n"
   ]
  },
  {
   "cell_type": "markdown",
   "id": "d046a5b0",
   "metadata": {},
   "source": [
    "# Composition\n",
    "### Class ke andr ksi class ka Instance\n",
    "###### Car ke andr wheels"
   ]
  },
  {
   "cell_type": "code",
   "execution_count": 86,
   "id": "273e693f",
   "metadata": {},
   "outputs": [],
   "source": [
    "class Shape:\n",
    "    def __init__(self, points):\n",
    "        self.points = points   \n",
    "    def __str__(self):  \n",
    "        ret = ''\n",
    "        for i in self.points:\n",
    "            ret += str(i) + '-'\n",
    "        return ret    "
   ]
  },
  {
   "cell_type": "code",
   "execution_count": 87,
   "id": "51567046",
   "metadata": {},
   "outputs": [
    {
     "name": "stdout",
     "output_type": "stream",
     "text": [
      "(2,5)-(5,2)-(7,8)-\n"
     ]
    }
   ],
   "source": [
    "p1 = Point(2,5)\n",
    "p2 = Point(5,2)\n",
    "p3 = Point(7,8)\n",
    "p = [p1,p2,p3]\n",
    "sh = Shape(p)\n",
    "print(sh)"
   ]
  },
  {
   "cell_type": "markdown",
   "id": "2baef4c6",
   "metadata": {},
   "source": [
    "<b>we can add methods to class even after it has been defined</b>"
   ]
  },
  {
   "cell_type": "code",
   "execution_count": 88,
   "id": "0f41fb9b",
   "metadata": {},
   "outputs": [],
   "source": [
    "def print_points(self):\n",
    "    for i in self.points:\n",
    "        print(i)\n",
    "Shape.print_points = print_points        "
   ]
  },
  {
   "cell_type": "code",
   "execution_count": 89,
   "id": "2c0dddc8",
   "metadata": {},
   "outputs": [
    {
     "name": "stdout",
     "output_type": "stream",
     "text": [
      "(2,5)\n",
      "(5,2)\n",
      "(7,8)\n"
     ]
    }
   ],
   "source": [
    "sh.print_points()"
   ]
  },
  {
   "cell_type": "markdown",
   "id": "cdb57f1c",
   "metadata": {},
   "source": [
    "# Inheritance"
   ]
  },
  {
   "cell_type": "code",
   "execution_count": 90,
   "id": "0cf76b6a",
   "metadata": {},
   "outputs": [],
   "source": [
    "class Rectangle():\n",
    "    def __init__(self,length,width):\n",
    "        self.length = length\n",
    "        self.width = width\n",
    "    def __str__(self):\n",
    "        return f'L:{self.length} and W:{self.width}'"
   ]
  },
  {
   "cell_type": "code",
   "execution_count": 91,
   "id": "0553d877",
   "metadata": {},
   "outputs": [],
   "source": [
    "class Square(Rectangle):\n",
    "    def __init__(self,length):\n",
    "        super().__init__(length,length)\n",
    "    def __str__(self):    \n",
    "        return f'Square: ' + super().__str__()"
   ]
  },
  {
   "cell_type": "code",
   "execution_count": 92,
   "id": "41729b27",
   "metadata": {},
   "outputs": [
    {
     "name": "stdout",
     "output_type": "stream",
     "text": [
      "Square: L:5 and W:5\n"
     ]
    }
   ],
   "source": [
    "s = Square(5)\n",
    "print(s)"
   ]
  },
  {
   "cell_type": "code",
   "execution_count": null,
   "id": "d2eb1ab8",
   "metadata": {},
   "outputs": [],
   "source": []
  },
  {
   "cell_type": "code",
   "execution_count": null,
   "id": "9aa4af70",
   "metadata": {},
   "outputs": [],
   "source": []
  }
 ],
 "metadata": {
  "kernelspec": {
   "display_name": "Python 3 (ipykernel)",
   "language": "python",
   "name": "python3"
  },
  "language_info": {
   "codemirror_mode": {
    "name": "ipython",
    "version": 3
   },
   "file_extension": ".py",
   "mimetype": "text/x-python",
   "name": "python",
   "nbconvert_exporter": "python",
   "pygments_lexer": "ipython3",
   "version": "3.12.0"
  }
 },
 "nbformat": 4,
 "nbformat_minor": 5
}
