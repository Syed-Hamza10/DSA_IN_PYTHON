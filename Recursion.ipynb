{
 "cells": [
  {
   "cell_type": "code",
   "execution_count": 28,
   "id": "301b7d99",
   "metadata": {},
   "outputs": [],
   "source": [
    "def fict(n):\n",
    "    if n == 0 :\n",
    "        return 1\n",
    "    fac= 1\n",
    "    while n>1:\n",
    "        fac *= n\n",
    "        n -=1\n",
    "    return fac\n",
    "\n",
    "\n"
   ]
  },
  {
   "cell_type": "code",
   "execution_count": 33,
   "id": "3c2d7212",
   "metadata": {},
   "outputs": [
    {
     "data": {
      "text/plain": [
       "24"
      ]
     },
     "execution_count": 33,
     "metadata": {},
     "output_type": "execute_result"
    }
   ],
   "source": [
    "fict(4)"
   ]
  },
  {
   "cell_type": "code",
   "execution_count": 23,
   "id": "6baf25fb",
   "metadata": {},
   "outputs": [],
   "source": [
    "def fict_recursive(n):\n",
    "    if n == 0:\n",
    "        return 1\n",
    "    return n * fict_recursive(n-1)"
   ]
  },
  {
   "cell_type": "code",
   "execution_count": 36,
   "id": "ee0a50bd",
   "metadata": {},
   "outputs": [
    {
     "data": {
      "text/plain": [
       "120"
      ]
     },
     "execution_count": 36,
     "metadata": {},
     "output_type": "execute_result"
    }
   ],
   "source": [
    "fict_recursive(5)"
   ]
  },
  {
   "cell_type": "code",
   "execution_count": 36,
   "id": "3af828c2",
   "metadata": {},
   "outputs": [],
   "source": [
    "def fib(n):\n",
    "    a = 0\n",
    "    b = 1\n",
    "    for i in range(n):\n",
    "        a, b = b, a+b\n",
    "    return a    "
   ]
  },
  {
   "cell_type": "code",
   "execution_count": 39,
   "id": "04974432",
   "metadata": {},
   "outputs": [
    {
     "data": {
      "text/plain": [
       "21"
      ]
     },
     "execution_count": 39,
     "metadata": {},
     "output_type": "execute_result"
    }
   ],
   "source": [
    "fib(8)"
   ]
  },
  {
   "cell_type": "code",
   "execution_count": 65,
   "id": "487ea22b",
   "metadata": {},
   "outputs": [],
   "source": [
    "def fib_recursive(n,a = 0,b = 1):\n",
    "    if n == 0:\n",
    "        return a\n",
    "    return fib_recursive(n-1,b,a+b) #tail recursion, intermediate callers leave in tail recursion.\n",
    "    "
   ]
  },
  {
   "cell_type": "code",
   "execution_count": 67,
   "id": "a743f8bf",
   "metadata": {},
   "outputs": [
    {
     "data": {
      "text/plain": [
       "679891637638612258"
      ]
     },
     "execution_count": 67,
     "metadata": {},
     "output_type": "execute_result"
    }
   ],
   "source": [
    "fib_recursive(87)"
   ]
  },
  {
   "cell_type": "code",
   "execution_count": 2,
   "id": "b03a0f49",
   "metadata": {},
   "outputs": [],
   "source": [
    "def fib_rec(n):\n",
    "    if n<=1:\n",
    "        return 1\n",
    "    return fib_rec(n-2) + fib_rec(n-1)"
   ]
  },
  {
   "cell_type": "code",
   "execution_count": 5,
   "id": "1fd96bed",
   "metadata": {},
   "outputs": [
    {
     "data": {
      "text/plain": [
       "5"
      ]
     },
     "execution_count": 5,
     "metadata": {},
     "output_type": "execute_result"
    }
   ],
   "source": [
    "fib_rec(4)"
   ]
  },
  {
   "cell_type": "code",
   "execution_count": 15,
   "id": "e1571fe2",
   "metadata": {},
   "outputs": [],
   "source": [
    "def tower_of_hanoi(levels = 3):\n",
    "    \n",
    "    move_tower(levels,\"A\",'B','C')\n",
    "    \n",
    "    \n",
    "def move_tower(l, fr, to , aux):\n",
    "    if l == 1:\n",
    "        return print_tower(l,fr,to)\n",
    "    \n",
    "    move_tower(l-1,fr,aux,to)\n",
    "    print_tower(l,fr,to)\n",
    "    move_tower(l-1,aux,to,fr)\n",
    "    \n",
    "    \n",
    "def print_tower(l,fr,to):\n",
    "    print(f'Move {l} from {fr} to {to}')"
   ]
  },
  {
   "cell_type": "code",
   "execution_count": 17,
   "id": "d305ecf2",
   "metadata": {},
   "outputs": [
    {
     "name": "stdout",
     "output_type": "stream",
     "text": [
      "Move 1 from A to C\n",
      "Move 2 from A to B\n",
      "Move 1 from C to B\n"
     ]
    }
   ],
   "source": [
    "tower_of_hanoi(2)"
   ]
  },
  {
   "cell_type": "code",
   "execution_count": 24,
   "id": "842e8e24",
   "metadata": {},
   "outputs": [],
   "source": [
    "def sum_recursive(l):\n",
    "    if len(l) == 0:  return 0\n",
    "    return l[0] + sum_recursive(l[1:]) #head + tail"
   ]
  },
  {
   "cell_type": "code",
   "execution_count": 25,
   "id": "5d3867bf",
   "metadata": {},
   "outputs": [
    {
     "data": {
      "text/plain": [
       "15"
      ]
     },
     "execution_count": 25,
     "metadata": {},
     "output_type": "execute_result"
    }
   ],
   "source": [
    "sum_recursive([1,2,3,4,5])"
   ]
  },
  {
   "cell_type": "code",
   "execution_count": 28,
   "id": "ec643366",
   "metadata": {},
   "outputs": [
    {
     "name": "stdout",
     "output_type": "stream",
     "text": [
      "9 8 7\n"
     ]
    }
   ],
   "source": [
    "l = [1,2,3,4,5,6,7,8,9]\n",
    "h1 = a[0]\n",
    "h2 = a[0]\n",
    "h3 = a[0]\n",
    "for i in l:\n",
    "    if i>=h1:    \n",
    "        h3 = h2\n",
    "        h2 = h1\n",
    "        h1 = i\n",
    "    elif i>=h2:\n",
    "        h3 = h2\n",
    "        h2 = i\n",
    "    elif i>= h3:\n",
    "        h3 = i\n",
    "print(h1, h2 ,h3)        "
   ]
  },
  {
   "cell_type": "code",
   "execution_count": null,
   "id": "3b981345",
   "metadata": {},
   "outputs": [],
   "source": []
  }
 ],
 "metadata": {
  "kernelspec": {
   "display_name": "Python 3 (ipykernel)",
   "language": "python",
   "name": "python3"
  },
  "language_info": {
   "codemirror_mode": {
    "name": "ipython",
    "version": 3
   },
   "file_extension": ".py",
   "mimetype": "text/x-python",
   "name": "python",
   "nbconvert_exporter": "python",
   "pygments_lexer": "ipython3",
   "version": "3.11.5"
  }
 },
 "nbformat": 4,
 "nbformat_minor": 5
}
