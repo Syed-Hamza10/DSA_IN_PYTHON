{
 "cells": [
  {
   "cell_type": "code",
   "execution_count": 71,
   "id": "fc7b36fa",
   "metadata": {},
   "outputs": [],
   "source": [
    "class Node:\n",
    "    def __init__(self, data = None):\n",
    "        self.val = data\n",
    "        self.next = None\n",
    "      "
   ]
  },
  {
   "cell_type": "code",
   "execution_count": 72,
   "id": "707387fc",
   "metadata": {},
   "outputs": [],
   "source": [
    "class LinkedList:\n",
    "    def __init__(self):\n",
    "        self.head = None\n",
    "        \n",
    "    def __str__(self):\n",
    "        ret = '['\n",
    "        last = self.head\n",
    "        while last is not None:\n",
    "            ret += str(last.val) + ', '\n",
    "            last = last.next\n",
    "           \n",
    "        ret = ret.rstrip(', ')\n",
    "        ret += ']' \n",
    "        return ret\n",
    "l =  LinkedList()        "
   ]
  },
  {
   "cell_type": "markdown",
   "id": "3388ea59",
   "metadata": {},
   "source": [
    "# Push "
   ]
  },
  {
   "cell_type": "markdown",
   "id": "5d72ba10",
   "metadata": {},
   "source": [
    "Push Operation has two cases.<br>\n",
    "    1. When there are no nodes.<br>\n",
    "    2. When there are one or more nodes."
   ]
  },
  {
   "cell_type": "code",
   "execution_count": 73,
   "id": "f0faa363",
   "metadata": {},
   "outputs": [],
   "source": [
    "def push(self, data):\n",
    "    node = Node(data)\n",
    "    if self.head is None:\n",
    "        print(\"Case 1\")\n",
    "        self.head = node\n",
    "        return\n",
    "    current = self.head\n",
    "    while current.next is not None:\n",
    "        current = current.next\n",
    "    current.next = node    \n",
    "LinkedList.push = push"
   ]
  },
  {
   "cell_type": "code",
   "execution_count": 74,
   "id": "47c759ee",
   "metadata": {},
   "outputs": [
    {
     "name": "stdout",
     "output_type": "stream",
     "text": [
      "Case 1\n"
     ]
    }
   ],
   "source": [
    "l.push(1)"
   ]
  },
  {
   "cell_type": "code",
   "execution_count": 75,
   "id": "9ac2816d",
   "metadata": {},
   "outputs": [],
   "source": [
    "l.push(2)\n",
    "l.push(3)\n",
    "l.push(4)\n",
    "l.push(5)"
   ]
  },
  {
   "cell_type": "code",
   "execution_count": 76,
   "id": "69c664ef",
   "metadata": {},
   "outputs": [
    {
     "name": "stdout",
     "output_type": "stream",
     "text": [
      "[1, 2, 3, 4, 5]\n"
     ]
    }
   ],
   "source": [
    "print(l)"
   ]
  },
  {
   "cell_type": "markdown",
   "id": "1307439d",
   "metadata": {},
   "source": [
    "# Pop"
   ]
  },
  {
   "cell_type": "markdown",
   "id": "a99075e0",
   "metadata": {},
   "source": [
    "POP has two cases.<br>\n",
    "1. When there's only one node. <br>\n",
    "2. Where there are two or more nodes. <br>"
   ]
  },
  {
   "cell_type": "code",
   "execution_count": 8,
   "id": "53328eb4",
   "metadata": {},
   "outputs": [],
   "source": [
    "def pop(self):\n",
    "    current = self.head\n",
    "    if self.head.next is None: #when there's only one Node\n",
    "        self.head = None\n",
    "        print('Case1')\n",
    "        return current.val\n",
    "    #where there are two or more nodes\n",
    "    while current.next is not None:\n",
    "        prev = current\n",
    "        current = current.next\n",
    "    print('Case2')    \n",
    "    val = current.val    \n",
    "    prev.next = None\n",
    "    return val\n",
    "        \n",
    "LinkedList.pop = pop"
   ]
  },
  {
   "cell_type": "code",
   "execution_count": 83,
   "id": "9914f9ba",
   "metadata": {},
   "outputs": [],
   "source": [
    "def remove_at(self,idx):\n",
    "    current = self.head\n",
    "    counter = 0\n",
    "    if current is not None and counter == idx:\n",
    "        self.head = current.next\n",
    "        return\n",
    "    \n",
    "    while current is not None: \n",
    "        if counter == idx:\n",
    "            prev.next = current.next\n",
    "            break\n",
    "        prev = current\n",
    "        current = current.next\n",
    "        counter +=1\n",
    "LinkedList.remove_at = remove_at"
   ]
  },
  {
   "cell_type": "code",
   "execution_count": 84,
   "id": "72f827b5",
   "metadata": {},
   "outputs": [],
   "source": [
    "l.remove_at(0)"
   ]
  },
  {
   "cell_type": "code",
   "execution_count": 70,
   "id": "2055f48a",
   "metadata": {},
   "outputs": [
    {
     "name": "stdout",
     "output_type": "stream",
     "text": [
      "[]\n"
     ]
    }
   ],
   "source": [
    "print(l)"
   ]
  },
  {
   "cell_type": "code",
   "execution_count": 9,
   "id": "de33608a",
   "metadata": {},
   "outputs": [
    {
     "name": "stdout",
     "output_type": "stream",
     "text": [
      "Case2\n"
     ]
    },
    {
     "data": {
      "text/plain": [
       "5"
      ]
     },
     "execution_count": 9,
     "metadata": {},
     "output_type": "execute_result"
    }
   ],
   "source": [
    "l.pop()"
   ]
  },
  {
   "cell_type": "code",
   "execution_count": 10,
   "id": "6b413aca",
   "metadata": {},
   "outputs": [
    {
     "name": "stdout",
     "output_type": "stream",
     "text": [
      "[1, 2, 3, 4]\n"
     ]
    }
   ],
   "source": [
    "print(l)"
   ]
  },
  {
   "cell_type": "markdown",
   "id": "6951523a",
   "metadata": {},
   "source": [
    "# Insert\n"
   ]
  },
  {
   "cell_type": "code",
   "execution_count": 11,
   "id": "fd7a8d62",
   "metadata": {},
   "outputs": [],
   "source": [
    "def insert(self,data, index):\n",
    "    node = Node(data)\n",
    "    if index == 0:        \n",
    "        self.head, node.next = node, self.head\n",
    "        return\n",
    "    curr = self.head\n",
    "    count = 0\n",
    "    while curr is not None and count < index:\n",
    "        prev = curr\n",
    "        curr = curr.next\n",
    "        count += 1\n",
    "    prev.next = node\n",
    "    node.next = curr\n",
    "LinkedList.insert = insert"
   ]
  },
  {
   "cell_type": "code",
   "execution_count": 12,
   "id": "c7f4a238",
   "metadata": {},
   "outputs": [
    {
     "name": "stdout",
     "output_type": "stream",
     "text": [
      "Case 1\n"
     ]
    }
   ],
   "source": [
    "l = LinkedList()\n",
    "l.push(1)\n",
    "l.push(2)\n",
    "l.push(3)\n",
    "l.push(4)\n",
    "l.push(5)\n"
   ]
  },
  {
   "cell_type": "code",
   "execution_count": 13,
   "id": "e129a8e1",
   "metadata": {},
   "outputs": [
    {
     "name": "stdout",
     "output_type": "stream",
     "text": [
      "[1, 2, 3, 4, 5]\n"
     ]
    }
   ],
   "source": [
    "print(l)"
   ]
  },
  {
   "cell_type": "code",
   "execution_count": 14,
   "id": "505a20cb",
   "metadata": {},
   "outputs": [
    {
     "name": "stdout",
     "output_type": "stream",
     "text": [
      "[10, 1, 2, 3, 4, 5]\n"
     ]
    }
   ],
   "source": [
    "l.insert(10,0)\n",
    "print(l)"
   ]
  },
  {
   "cell_type": "code",
   "execution_count": 15,
   "id": "fefb7e54",
   "metadata": {},
   "outputs": [],
   "source": [
    "def remove(self,val):\n",
    "    current = self.head\n",
    "    if current is not None and current.val == val:\n",
    "        self.head = current.next\n",
    "        return\n",
    "    \n",
    "    while current is not None: \n",
    "        if current.val == val:\n",
    "            prev.next = current.next\n",
    "            break\n",
    "        prev = current\n",
    "        current = current.next    \n",
    "          \n",
    "        \n",
    "\n",
    "\n",
    "# Assign the remove function to the LinkedList class\n",
    "LinkedList.remove = remove\n",
    "\n",
    "\n",
    "        "
   ]
  },
  {
   "cell_type": "code",
   "execution_count": 16,
   "id": "c4da190e",
   "metadata": {},
   "outputs": [
    {
     "name": "stdout",
     "output_type": "stream",
     "text": [
      "[10, 1, 2, 3, 4, 5]\n"
     ]
    }
   ],
   "source": [
    "l.remove(6)\n",
    "print(l)"
   ]
  },
  {
   "cell_type": "code",
   "execution_count": 17,
   "id": "d36411c2",
   "metadata": {},
   "outputs": [],
   "source": [
    "def list_len(self):\n",
    "    temp = self.head\n",
    "    count = 0\n",
    "    if temp is None:\n",
    "        return 0\n",
    "    while temp is not None:\n",
    "        temp = temp.next\n",
    "        count += 1\n",
    "    return count  \n",
    "LinkedList.list_len = list_len\n",
    "\n"
   ]
  },
  {
   "cell_type": "code",
   "execution_count": 18,
   "id": "fb3c6c94",
   "metadata": {},
   "outputs": [
    {
     "data": {
      "text/plain": [
       "6"
      ]
     },
     "execution_count": 18,
     "metadata": {},
     "output_type": "execute_result"
    }
   ],
   "source": [
    "l.list_len()"
   ]
  },
  {
   "cell_type": "code",
   "execution_count": 19,
   "id": "10d8e288",
   "metadata": {},
   "outputs": [],
   "source": [
    "def get_index(self,index):\n",
    "    temp = self.head\n",
    "    count = 0\n",
    "    if temp is None:\n",
    "        return\n",
    "    while temp is not None:\n",
    "        if count == index:\n",
    "            return temp.val\n",
    "        temp = temp.next\n",
    "        count += 1\n",
    "LinkedList.get_index = get_index"
   ]
  },
  {
   "cell_type": "code",
   "execution_count": 20,
   "id": "a2c85ba6",
   "metadata": {},
   "outputs": [],
   "source": [
    "l.get_index(6)"
   ]
  },
  {
   "cell_type": "markdown",
   "id": "3d03efd8",
   "metadata": {},
   "source": [
    " "
   ]
  },
  {
   "cell_type": "code",
   "execution_count": 21,
   "id": "ff4c40a2",
   "metadata": {},
   "outputs": [],
   "source": [
    "def find_min(self):\n",
    "    mini = self.head.val\n",
    "    temp = self.head.next\n",
    "    while temp is not None:\n",
    "        if temp.val < mini :\n",
    "            mini = temp.val\n",
    "            temp = temp.next\n",
    "        else:\n",
    "            temp = temp.next\n",
    "    return mini        \n",
    "LinkedList.find_min = find_min"
   ]
  },
  {
   "cell_type": "code",
   "execution_count": 22,
   "id": "07aebc6e",
   "metadata": {},
   "outputs": [
    {
     "data": {
      "text/plain": [
       "1"
      ]
     },
     "execution_count": 22,
     "metadata": {},
     "output_type": "execute_result"
    }
   ],
   "source": [
    "find_min(l)"
   ]
  },
  {
   "cell_type": "code",
   "execution_count": 23,
   "id": "240e9bc8",
   "metadata": {},
   "outputs": [
    {
     "name": "stdout",
     "output_type": "stream",
     "text": [
      "[10, 1, 2, 3, 4, 5]\n"
     ]
    }
   ],
   "source": [
    "print(l)"
   ]
  },
  {
   "cell_type": "code",
   "execution_count": 24,
   "id": "a2c2bfc8",
   "metadata": {},
   "outputs": [],
   "source": [
    "def remove_min_from_list(self):\n",
    "    return self.remove(self.find_min())\n",
    "LinkedList.remove_min_from_list = remove_min_from_list"
   ]
  },
  {
   "cell_type": "code",
   "execution_count": 25,
   "id": "c642dcff",
   "metadata": {},
   "outputs": [],
   "source": [
    "l.remove_min_from_list()"
   ]
  },
  {
   "cell_type": "code",
   "execution_count": 26,
   "id": "34f652c3",
   "metadata": {},
   "outputs": [
    {
     "name": "stdout",
     "output_type": "stream",
     "text": [
      "[10, 2, 3, 4, 5]\n"
     ]
    }
   ],
   "source": [
    "print(l)"
   ]
  },
  {
   "cell_type": "code",
   "execution_count": 79,
   "id": "ab87db46",
   "metadata": {},
   "outputs": [],
   "source": [
    "def find_min_idx(self):\n",
    "    if self.head is None:\n",
    "        return\n",
    "    mini = self.head.val\n",
    "    temp = self.head\n",
    "    counter = 0\n",
    "    idx = 0\n",
    "    while temp is not None:\n",
    "        if temp.val < mini:\n",
    "            mini = temp.val\n",
    "            idx = counter\n",
    "        counter += 1 \n",
    "        temp = temp.next\n",
    "    return mini, idx    \n",
    "LinkedList.find_min_idx = find_min_idx"
   ]
  },
  {
   "cell_type": "code",
   "execution_count": 80,
   "id": "86796274",
   "metadata": {},
   "outputs": [
    {
     "data": {
      "text/plain": [
       "(1, 0)"
      ]
     },
     "execution_count": 80,
     "metadata": {},
     "output_type": "execute_result"
    }
   ],
   "source": [
    "a , b = l.find_min_idx()\n",
    "a, b"
   ]
  },
  {
   "cell_type": "code",
   "execution_count": 85,
   "id": "aa5ba065",
   "metadata": {},
   "outputs": [],
   "source": [
    "def remove_min_from_list_idx(self):\n",
    "    l_min_i = self.find_min_idx()[1]\n",
    "    self.remove_at(l_min_i)\n",
    "LinkedList.remove_min_from_list_idx = remove_min_from_list_idx"
   ]
  },
  {
   "cell_type": "code",
   "execution_count": 88,
   "id": "7269ec14",
   "metadata": {},
   "outputs": [],
   "source": [
    "l.remove_min_from_list_idx()"
   ]
  },
  {
   "cell_type": "code",
   "execution_count": 89,
   "id": "587ba2fd",
   "metadata": {},
   "outputs": [
    {
     "name": "stdout",
     "output_type": "stream",
     "text": [
      "[4, 5]\n"
     ]
    }
   ],
   "source": [
    "print(l)"
   ]
  },
  {
   "cell_type": "code",
   "execution_count": null,
   "id": "09fc1035",
   "metadata": {},
   "outputs": [],
   "source": []
  },
  {
   "cell_type": "code",
   "execution_count": 22,
   "id": "fe609cc6",
   "metadata": {},
   "outputs": [],
   "source": [
    "def count_up_to(limit):\n",
    "    count = 1\n",
    "    while count <= limit:\n",
    "        yield count\n",
    "        count += 1\n",
    "\n",
    "# Using the generator function\n",
    "counter = count_up_to(5)\n",
    "\n"
   ]
  },
  {
   "cell_type": "code",
   "execution_count": 23,
   "id": "a4788d1b",
   "metadata": {},
   "outputs": [
    {
     "name": "stdout",
     "output_type": "stream",
     "text": [
      "<generator object count_up_to at 0x0000021CF1BE1490>\n",
      "1\n",
      "2\n",
      "3\n",
      "4\n",
      "5\n"
     ]
    }
   ],
   "source": [
    "print(counter)\n",
    "for i in counter:\n",
    "    print(i)"
   ]
  },
  {
   "cell_type": "code",
   "execution_count": 30,
   "id": "f2025707",
   "metadata": {},
   "outputs": [],
   "source": [
    "a = {'hamza': 15, 'nobita' : 10,'doraemon' : 20}"
   ]
  },
  {
   "cell_type": "code",
   "execution_count": 25,
   "id": "61d10ecd",
   "metadata": {},
   "outputs": [
    {
     "data": {
      "text/plain": [
       "'@'"
      ]
     },
     "execution_count": 25,
     "metadata": {},
     "output_type": "execute_result"
    }
   ],
   "source": [
    "\n",
    "chr(64)"
   ]
  },
  {
   "cell_type": "code",
   "execution_count": 26,
   "id": "931c1714",
   "metadata": {},
   "outputs": [],
   "source": [
    "a = 'My name is Hamza'\n",
    "b = ''\n",
    "capitalize_next = True\n",
    "\n"
   ]
  },
  {
   "cell_type": "code",
   "execution_count": 27,
   "id": "dae1c16c",
   "metadata": {},
   "outputs": [
    {
     "ename": "SyntaxError",
     "evalue": "incomplete input (1902125644.py, line 4)",
     "output_type": "error",
     "traceback": [
      "\u001b[1;36m  Cell \u001b[1;32mIn[27], line 4\u001b[1;36m\u001b[0m\n\u001b[1;33m    \u001b[0m\n\u001b[1;37m    ^\u001b[0m\n\u001b[1;31mSyntaxError\u001b[0m\u001b[1;31m:\u001b[0m incomplete input\n"
     ]
    }
   ],
   "source": [
    "for i in a:\n",
    "    if i == ' ':\n",
    "        \n",
    "        "
   ]
  },
  {
   "cell_type": "code",
   "execution_count": 28,
   "id": "0f93a2c9",
   "metadata": {},
   "outputs": [
    {
     "data": {
      "text/plain": [
       "'My Name Is Hamza'"
      ]
     },
     "execution_count": 28,
     "metadata": {},
     "output_type": "execute_result"
    }
   ],
   "source": [
    "for char in a:\n",
    "    if char == \" \":\n",
    "        capitalize_next = True\n",
    "        b += char\n",
    "    elif capitalize_next:\n",
    "        b += char.upper()\n",
    "        capitalize_next = False\n",
    "    else:\n",
    "        b += char\n",
    "b        "
   ]
  },
  {
   "cell_type": "code",
   "execution_count": 29,
   "id": "7bc0b3cd",
   "metadata": {
    "scrolled": false
   },
   "outputs": [
    {
     "name": "stdout",
     "output_type": "stream",
     "text": [
      "My Name Is Hamza\n"
     ]
    }
   ],
   "source": [
    "a = 'My name is Hamza'\n",
    "b = ''\n",
    "\n",
    "capitalize_next = True  # Flag to track whether the next character should be capitalized\n",
    "\n",
    "for char in a:\n",
    "    if char == ' ':\n",
    "        capitalize_next = True  # Set flag to True if current character is a space\n",
    "        b += char  # Add the space to the result string\n",
    "    elif capitalize_next:\n",
    "        b += char.upper()  # Capitalize the current character\n",
    "        capitalize_next = False  # Reset the flag\n",
    "    else:\n",
    "        b += char  # Add the current character without capitalization\n",
    "\n",
    "print(b)  # Output: \"My Name Is Hamza\"My Name Is Hamza"
   ]
  },
  {
   "cell_type": "code",
   "execution_count": null,
   "id": "1254d6b6",
   "metadata": {},
   "outputs": [],
   "source": []
  },
  {
   "cell_type": "code",
   "execution_count": null,
   "id": "3916e6d9",
   "metadata": {},
   "outputs": [],
   "source": []
  },
  {
   "cell_type": "code",
   "execution_count": null,
   "id": "11b170ba",
   "metadata": {},
   "outputs": [],
   "source": []
  },
  {
   "cell_type": "code",
   "execution_count": null,
   "id": "4017e143",
   "metadata": {},
   "outputs": [],
   "source": []
  },
  {
   "cell_type": "code",
   "execution_count": null,
   "id": "7f326112",
   "metadata": {},
   "outputs": [],
   "source": []
  },
  {
   "cell_type": "code",
   "execution_count": null,
   "id": "7335e7c9",
   "metadata": {},
   "outputs": [],
   "source": []
  },
  {
   "cell_type": "code",
   "execution_count": null,
   "id": "867610da",
   "metadata": {},
   "outputs": [],
   "source": []
  },
  {
   "cell_type": "code",
   "execution_count": null,
   "id": "bf4ecb3b",
   "metadata": {},
   "outputs": [],
   "source": []
  },
  {
   "cell_type": "code",
   "execution_count": null,
   "id": "68985f6d",
   "metadata": {},
   "outputs": [],
   "source": []
  },
  {
   "cell_type": "code",
   "execution_count": null,
   "id": "51c926c1",
   "metadata": {},
   "outputs": [],
   "source": []
  },
  {
   "cell_type": "code",
   "execution_count": null,
   "id": "1c134d62",
   "metadata": {},
   "outputs": [],
   "source": []
  },
  {
   "cell_type": "code",
   "execution_count": null,
   "id": "3ec36039",
   "metadata": {},
   "outputs": [],
   "source": []
  },
  {
   "cell_type": "code",
   "execution_count": null,
   "id": "fc7ebac9",
   "metadata": {},
   "outputs": [],
   "source": []
  },
  {
   "cell_type": "code",
   "execution_count": null,
   "id": "cdd28182",
   "metadata": {},
   "outputs": [],
   "source": []
  },
  {
   "cell_type": "code",
   "execution_count": null,
   "id": "54915cef",
   "metadata": {},
   "outputs": [],
   "source": []
  },
  {
   "cell_type": "code",
   "execution_count": null,
   "id": "a29ae8b6",
   "metadata": {},
   "outputs": [],
   "source": []
  },
  {
   "cell_type": "code",
   "execution_count": null,
   "id": "d4a62383",
   "metadata": {},
   "outputs": [],
   "source": []
  },
  {
   "cell_type": "code",
   "execution_count": null,
   "id": "b16678c6",
   "metadata": {},
   "outputs": [],
   "source": []
  }
 ],
 "metadata": {
  "kernelspec": {
   "display_name": "Python 3 (ipykernel)",
   "language": "python",
   "name": "python3"
  },
  "language_info": {
   "codemirror_mode": {
    "name": "ipython",
    "version": 3
   },
   "file_extension": ".py",
   "mimetype": "text/x-python",
   "name": "python",
   "nbconvert_exporter": "python",
   "pygments_lexer": "ipython3",
   "version": "3.11.5"
  }
 },
 "nbformat": 4,
 "nbformat_minor": 5
}
