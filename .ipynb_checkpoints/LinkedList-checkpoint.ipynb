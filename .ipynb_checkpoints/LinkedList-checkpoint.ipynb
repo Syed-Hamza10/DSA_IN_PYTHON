{
 "cells": [
  {
   "cell_type": "code",
   "execution_count": null,
   "id": "7e479d87",
   "metadata": {},
   "outputs": [],
   "source": [
    "class Node:\n",
    "    def __init__(self, data = None):\n",
    "        self.val = data\n",
    "        self.next = None\n",
    "      "
   ]
  },
  {
   "cell_type": "code",
   "execution_count": null,
   "id": "4f303363",
   "metadata": {},
   "outputs": [],
   "source": [
    "class LinkedList:\n",
    "    def __init__(self):\n",
    "        self.head = None\n",
    "        \n",
    "    def __str__(self):\n",
    "        ret = '['\n",
    "        last = self.head\n",
    "        while last is not None:\n",
    "            ret += str(last.val) + ', '\n",
    "            last = last.next\n",
    "           \n",
    "        ret = ret.rstrip(', ')\n",
    "        ret += ']' \n",
    "        return ret\n",
    "l =  LinkedList()        "
   ]
  },
  {
   "cell_type": "markdown",
   "id": "82429081",
   "metadata": {},
   "source": [
    "# Push "
   ]
  },
  {
   "cell_type": "markdown",
   "id": "ed20e834",
   "metadata": {},
   "source": [
    "Push Operation has two cases.<br>\n",
    "    1. When there are no nodes.<br>\n",
    "    2. When there are one or more nodes."
   ]
  },
  {
   "cell_type": "code",
   "execution_count": null,
   "id": "33fa2539",
   "metadata": {},
   "outputs": [],
   "source": [
    "def push(self, data):\n",
    "    node = Node(data)\n",
    "    if self.head is None:\n",
    "        print(\"Case 1\")\n",
    "        self.head = node\n",
    "        return\n",
    "    current = self.head\n",
    "    while current.next is not None:\n",
    "        current = current.next\n",
    "    current.next = node    \n",
    "LinkedList.push = push"
   ]
  },
  {
   "cell_type": "code",
   "execution_count": null,
   "id": "ef4d6d05",
   "metadata": {},
   "outputs": [],
   "source": [
    "l.push(1)"
   ]
  },
  {
   "cell_type": "code",
   "execution_count": null,
   "id": "8c83b4d8",
   "metadata": {},
   "outputs": [],
   "source": [
    "l.push(2)\n",
    "l.push(3)\n",
    "l.push(4)\n",
    "l.push(5)"
   ]
  },
  {
   "cell_type": "code",
   "execution_count": null,
   "id": "5ba91ecd",
   "metadata": {},
   "outputs": [],
   "source": [
    "print(l)"
   ]
  },
  {
   "cell_type": "markdown",
   "id": "4c8a6fd3",
   "metadata": {},
   "source": [
    "# Pop"
   ]
  },
  {
   "cell_type": "markdown",
   "id": "fa042644",
   "metadata": {},
   "source": [
    "POP has two cases.<br>\n",
    "1. When there's only one node. <br>\n",
    "2. Where there are two or more nodes. <br>"
   ]
  },
  {
   "cell_type": "code",
   "execution_count": null,
   "id": "d7216470",
   "metadata": {},
   "outputs": [],
   "source": [
    "def pop(self):\n",
    "    current = self.head\n",
    "    if self.head.next is None: #when there's only one Node\n",
    "        self.head = None\n",
    "        print('Case1')\n",
    "        return current.val\n",
    "    #where there are two or more nodes\n",
    "    while current.next is not None:\n",
    "        prev = current\n",
    "        current = current.next\n",
    "    print('Case2')    \n",
    "    val = current.val    \n",
    "    prev.next = None\n",
    "    return val\n",
    "        \n",
    "LinkedList.pop = pop"
   ]
  },
  {
   "cell_type": "code",
   "execution_count": null,
   "id": "fbd4cbf2",
   "metadata": {},
   "outputs": [],
   "source": []
  },
  {
   "cell_type": "code",
   "execution_count": null,
   "id": "50b7c82f",
   "metadata": {},
   "outputs": [],
   "source": [
    "l.pop()"
   ]
  },
  {
   "cell_type": "code",
   "execution_count": null,
   "id": "eea0995f",
   "metadata": {},
   "outputs": [],
   "source": [
    "print(l)"
   ]
  },
  {
   "cell_type": "markdown",
   "id": "df04e385",
   "metadata": {},
   "source": [
    "# Insert\n"
   ]
  },
  {
   "cell_type": "code",
   "execution_count": null,
   "id": "752f9dbd",
   "metadata": {},
   "outputs": [],
   "source": [
    "def insert(self,data, index):\n",
    "    node = Node(data)\n",
    "    if index == 0:        \n",
    "        self.head, node.next = node, self.head\n",
    "        return\n",
    "    curr = self.head\n",
    "    count = 0\n",
    "    while curr is not None and count < index:\n",
    "        prev = curr\n",
    "        curr = curr.next\n",
    "        count += 1\n",
    "    prev.next = node\n",
    "    node.next = curr\n",
    "LinkedList.insert = insert"
   ]
  },
  {
   "cell_type": "code",
   "execution_count": null,
   "id": "8ee7fe94",
   "metadata": {},
   "outputs": [],
   "source": [
    "l = LinkedList()\n",
    "l.push(1)\n",
    "l.push(2)\n",
    "l.push(3)\n",
    "l.push(4)\n",
    "l.push(5)\n"
   ]
  },
  {
   "cell_type": "code",
   "execution_count": null,
   "id": "0a05a852",
   "metadata": {},
   "outputs": [],
   "source": [
    "print(l)"
   ]
  },
  {
   "cell_type": "code",
   "execution_count": null,
   "id": "27c6a26d",
   "metadata": {},
   "outputs": [],
   "source": [
    "l.insert(10,0)\n",
    "print(l)"
   ]
  },
  {
   "cell_type": "code",
   "execution_count": null,
   "id": "aad98e23",
   "metadata": {},
   "outputs": [],
   "source": [
    "def remove(self,val):\n",
    "    current = self.head\n",
    "    if current is not None and current.val == val:\n",
    "        self.head = current.next\n",
    "        return\n",
    "    \n",
    "    while current is not None: \n",
    "        if current.val == val:\n",
    "            prev.next = current.next\n",
    "            break\n",
    "        prev = current\n",
    "        current = current.next    \n",
    "          \n",
    "        \n",
    "\n",
    "\n",
    "# Assign the remove function to the LinkedList class\n",
    "LinkedList.remove = remove\n",
    "\n",
    "\n",
    "        "
   ]
  },
  {
   "cell_type": "code",
   "execution_count": null,
   "id": "26cf3f92",
   "metadata": {},
   "outputs": [],
   "source": [
    "l.remove(6)\n",
    "print(l)"
   ]
  },
  {
   "cell_type": "code",
   "execution_count": null,
   "id": "80b9d34a",
   "metadata": {},
   "outputs": [],
   "source": [
    "def list_len(self):\n",
    "    temp = self.head\n",
    "    count = 0\n",
    "    if temp is None:\n",
    "        return 0\n",
    "    while temp is not None:\n",
    "        temp = temp.next\n",
    "        count += 1\n",
    "    return count  \n",
    "LinkedList.list_len = list_len\n",
    "\n"
   ]
  },
  {
   "cell_type": "code",
   "execution_count": null,
   "id": "f0eeedb6",
   "metadata": {},
   "outputs": [],
   "source": [
    "l.list_len()"
   ]
  },
  {
   "cell_type": "code",
   "execution_count": null,
   "id": "3ea20b4b",
   "metadata": {},
   "outputs": [],
   "source": []
  }
 ],
 "metadata": {
  "kernelspec": {
   "display_name": "Python 3 (ipykernel)",
   "language": "python",
   "name": "python3"
  },
  "language_info": {
   "codemirror_mode": {
    "name": "ipython",
    "version": 3
   },
   "file_extension": ".py",
   "mimetype": "text/x-python",
   "name": "python",
   "nbconvert_exporter": "python",
   "pygments_lexer": "ipython3",
   "version": "3.11.5"
  }
 },
 "nbformat": 4,
 "nbformat_minor": 5
}
