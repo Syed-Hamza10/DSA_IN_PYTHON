{
 "cells": [
  {
   "cell_type": "code",
   "execution_count": 122,
   "id": "7ad6395a",
   "metadata": {},
   "outputs": [],
   "source": [
    "class Node:\n",
    "    def __init__(self,data=None):\n",
    "        self.data = data\n",
    "        self.next = None  \n",
    "        self.prev = None"
   ]
  },
  {
   "cell_type": "code",
   "execution_count": 123,
   "id": "89035a7b",
   "metadata": {},
   "outputs": [],
   "source": [
    "class DoublyList:\n",
    "    def __init__(self):\n",
    "        self.head = None\n",
    "    def __str__(self):\n",
    "        temp = self.head\n",
    "        ret = '['\n",
    "        while temp is not None:\n",
    "            ret += str(temp.data) + ', '\n",
    "            temp = temp.next\n",
    "           \n",
    "        ret = ret.rstrip(', ')\n",
    "        ret += ']' \n",
    "        return ret\n",
    "            \n",
    "            "
   ]
  },
  {
   "cell_type": "code",
   "execution_count": 124,
   "id": "16db6461",
   "metadata": {},
   "outputs": [],
   "source": [
    "def push(self,val):\n",
    "    node = Node(val)\n",
    "    if self.head is None:\n",
    "        self.head = node\n",
    "        return\n",
    "    temp = self.head\n",
    "    while temp.next is not None:\n",
    "        prev = temp\n",
    "        temp = temp.next\n",
    "    temp.next = node\n",
    "    node.prev = temp \n",
    "DoublyList.push = push    \n",
    "    "
   ]
  },
  {
   "cell_type": "code",
   "execution_count": 125,
   "id": "d28e5611",
   "metadata": {},
   "outputs": [
    {
     "name": "stdout",
     "output_type": "stream",
     "text": [
      "[1, 2, 3, 4, 5]\n"
     ]
    }
   ],
   "source": [
    "d = DoublyList()\n",
    "d.push(1)\n",
    "d.push(2)\n",
    "d.push(3)\n",
    "d.push(4)\n",
    "d.push(5)\n",
    "print(d)"
   ]
  },
  {
   "cell_type": "code",
   "execution_count": 126,
   "id": "223d45df",
   "metadata": {},
   "outputs": [],
   "source": [
    "def pop(self):\n",
    "    if self.head is None:\n",
    "        return\n",
    "    temp = self.head\n",
    "    while temp.next is not None:\n",
    "        prev = temp\n",
    "        temp = temp.next\n",
    "    temp = prev.next\n",
    "    prev.next = None\n",
    "    return temp.data\n",
    "DoublyList.pop = pop"
   ]
  },
  {
   "cell_type": "code",
   "execution_count": 127,
   "id": "d098945f",
   "metadata": {},
   "outputs": [
    {
     "data": {
      "text/plain": [
       "5"
      ]
     },
     "execution_count": 127,
     "metadata": {},
     "output_type": "execute_result"
    }
   ],
   "source": [
    "d.pop()"
   ]
  },
  {
   "cell_type": "code",
   "execution_count": 128,
   "id": "d0a5bb75",
   "metadata": {},
   "outputs": [],
   "source": [
    "def insert(self, val, index):\n",
    "    node = Node(val)\n",
    "    temp = self.head\n",
    "    if index == 0 and self.head is not None:\n",
    "        self.head = node\n",
    "        self.head.next = temp\n",
    "        temp.prev = self.head\n",
    "        return\n",
    "    if self.head is None:\n",
    "        self.head = node\n",
    "        return\n",
    "    count = 0\n",
    "    while temp is not None and count < index:\n",
    "        prev = temp\n",
    "        temp = temp.next\n",
    "        count += 1\n",
    "    if temp is None:\n",
    "        prev.next = node\n",
    "        node.prev = prev\n",
    "        return\n",
    "        \n",
    "    prev.next = node\n",
    "    node.prev = prev\n",
    "    temp.prev = node\n",
    "    node.next = temp\n",
    "        \n",
    "DoublyList.insert = insert        \n",
    "        "
   ]
  },
  {
   "cell_type": "code",
   "execution_count": 129,
   "id": "1606fe25",
   "metadata": {},
   "outputs": [
    {
     "name": "stdout",
     "output_type": "stream",
     "text": [
      "[1, 2, 3, 4, 4]\n"
     ]
    }
   ],
   "source": [
    "\n",
    "d.insert(4,4)\n",
    "print(d)"
   ]
  },
  {
   "cell_type": "code",
   "execution_count": 130,
   "id": "82e14517",
   "metadata": {},
   "outputs": [],
   "source": [
    "def remove(self,val):\n",
    "    node = Node(val)\n",
    "    temp = self.head\n",
    "    if temp.data == node.data:\n",
    "        self.head = self.head.next\n",
    "        return\n",
    "    while temp is not None and temp.data != node.data:\n",
    "        prev = temp\n",
    "        temp = temp.next\n",
    "    if temp is None:\n",
    "        return\n",
    "    prev.next = temp.next\n",
    "    if temp.next is not None:\n",
    "        temp.next.prev =  prev\n",
    "DoublyList.remove = remove\n"
   ]
  },
  {
   "cell_type": "code",
   "execution_count": 131,
   "id": "27586c2d",
   "metadata": {},
   "outputs": [
    {
     "name": "stdout",
     "output_type": "stream",
     "text": [
      "[1, 2, 3, 4]\n"
     ]
    }
   ],
   "source": [
    "d.remove(4)\n",
    "print(d)"
   ]
  },
  {
   "cell_type": "code",
   "execution_count": 132,
   "id": "ce9dea8e",
   "metadata": {},
   "outputs": [],
   "source": [
    "def list_len(self):\n",
    "    temp = self.head\n",
    "    count = 0\n",
    "    if temp is None:\n",
    "        return 0\n",
    "    while temp is not None:\n",
    "        temp = temp.next\n",
    "        count += 1\n",
    "    return count  \n",
    "DoublyList.list_len = list_len\n",
    "\n"
   ]
  },
  {
   "cell_type": "code",
   "execution_count": 133,
   "id": "c3893f5d",
   "metadata": {},
   "outputs": [
    {
     "data": {
      "text/plain": [
       "4"
      ]
     },
     "execution_count": 133,
     "metadata": {},
     "output_type": "execute_result"
    }
   ],
   "source": [
    "d.list_len()"
   ]
  },
  {
   "cell_type": "code",
   "execution_count": null,
   "id": "b229b174",
   "metadata": {},
   "outputs": [],
   "source": []
  }
 ],
 "metadata": {
  "kernelspec": {
   "display_name": "Python 3 (ipykernel)",
   "language": "python",
   "name": "python3"
  },
  "language_info": {
   "codemirror_mode": {
    "name": "ipython",
    "version": 3
   },
   "file_extension": ".py",
   "mimetype": "text/x-python",
   "name": "python",
   "nbconvert_exporter": "python",
   "pygments_lexer": "ipython3",
   "version": "3.11.5"
  }
 },
 "nbformat": 4,
 "nbformat_minor": 5
}
