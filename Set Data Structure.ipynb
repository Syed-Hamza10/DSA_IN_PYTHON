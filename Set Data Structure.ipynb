{
 "cells": [
  {
   "cell_type": "code",
   "execution_count": 10,
   "id": "3591513a",
   "metadata": {},
   "outputs": [
    {
     "data": {
      "text/plain": [
       "{1, 2, 3, 4, 5, 6, 7}"
      ]
     },
     "execution_count": 10,
     "metadata": {},
     "output_type": "execute_result"
    }
   ],
   "source": [
    "a = set([1,2,3,4,5,6,7,7])\n",
    "a"
   ]
  },
  {
   "cell_type": "code",
   "execution_count": 11,
   "id": "ff92ece3",
   "metadata": {},
   "outputs": [
    {
     "data": {
      "text/plain": [
       "{'q', 'u', 'x'}"
      ]
     },
     "execution_count": 11,
     "metadata": {},
     "output_type": "execute_result"
    }
   ],
   "source": [
    "s = set('quux')\n",
    "s"
   ]
  },
  {
   "cell_type": "code",
   "execution_count": 13,
   "id": "604584ef",
   "metadata": {},
   "outputs": [
    {
     "data": {
      "text/plain": [
       "{'D', 'N', 'a', 'b', 'e', 'i', 'm', 'o', 'r', 't'}"
      ]
     },
     "execution_count": 13,
     "metadata": {},
     "output_type": "execute_result"
    }
   ],
   "source": [
    "a = \"Nobita\"\n",
    "b = 'Dorame'\n",
    "set(a) | set(b) #union"
   ]
  },
  {
   "cell_type": "code",
   "execution_count": 14,
   "id": "eeef7a04",
   "metadata": {},
   "outputs": [
    {
     "data": {
      "text/plain": [
       "{'D', 'N', 'a', 'b', 'e', 'i', 'm', 'o', 'r', 't'}"
      ]
     },
     "execution_count": 14,
     "metadata": {},
     "output_type": "execute_result"
    }
   ],
   "source": [
    "a, b = set(a), set(b)\n",
    "a.union(b)"
   ]
  },
  {
   "cell_type": "code",
   "execution_count": 15,
   "id": "10ed99d6",
   "metadata": {},
   "outputs": [
    {
     "data": {
      "text/plain": [
       "{'a', 'o'}"
      ]
     },
     "execution_count": 15,
     "metadata": {},
     "output_type": "execute_result"
    }
   ],
   "source": [
    "a.intersection(b)"
   ]
  },
  {
   "cell_type": "code",
   "execution_count": 17,
   "id": "9b3c3d86",
   "metadata": {},
   "outputs": [
    {
     "data": {
      "text/plain": [
       "{'N', 'b', 'i', 't'}"
      ]
     },
     "execution_count": 17,
     "metadata": {},
     "output_type": "execute_result"
    }
   ],
   "source": [
    "a.difference(b) #stuff in a but not in b"
   ]
  },
  {
   "cell_type": "code",
   "execution_count": 18,
   "id": "5d852de6",
   "metadata": {},
   "outputs": [
    {
     "data": {
      "text/plain": [
       "{'D', 'e', 'm', 'r'}"
      ]
     },
     "execution_count": 18,
     "metadata": {},
     "output_type": "execute_result"
    }
   ],
   "source": [
    "b.difference(a)"
   ]
  },
  {
   "cell_type": "code",
   "execution_count": 19,
   "id": "fa4413af",
   "metadata": {},
   "outputs": [
    {
     "data": {
      "text/plain": [
       "True"
      ]
     },
     "execution_count": 19,
     "metadata": {},
     "output_type": "execute_result"
    }
   ],
   "source": [
    "x = {1,2,3,4,5}\n",
    "y = {1,2,3}\n",
    "y.issubset(x)"
   ]
  },
  {
   "cell_type": "code",
   "execution_count": 20,
   "id": "35d6cf0a",
   "metadata": {},
   "outputs": [
    {
     "data": {
      "text/plain": [
       "False"
      ]
     },
     "execution_count": 20,
     "metadata": {},
     "output_type": "execute_result"
    }
   ],
   "source": [
    "x.issubset(y)"
   ]
  },
  {
   "cell_type": "code",
   "execution_count": 25,
   "id": "8fa178b0",
   "metadata": {},
   "outputs": [
    {
     "data": {
      "text/plain": [
       "False"
      ]
     },
     "execution_count": 25,
     "metadata": {},
     "output_type": "execute_result"
    }
   ],
   "source": [
    "x < y #proper subset"
   ]
  },
  {
   "cell_type": "code",
   "execution_count": 26,
   "id": "5277c3f2",
   "metadata": {},
   "outputs": [
    {
     "data": {
      "text/plain": [
       "True"
      ]
     },
     "execution_count": 26,
     "metadata": {},
     "output_type": "execute_result"
    }
   ],
   "source": [
    "y < x #proper subset"
   ]
  },
  {
   "cell_type": "code",
   "execution_count": 32,
   "id": "ff05a7f6",
   "metadata": {},
   "outputs": [
    {
     "data": {
      "text/plain": [
       "{1, 2, 3, 4, 5, 6}"
      ]
     },
     "execution_count": 32,
     "metadata": {},
     "output_type": "execute_result"
    }
   ],
   "source": [
    "x.update((6,)) #pass an iterable\n",
    "x"
   ]
  },
  {
   "cell_type": "markdown",
   "id": "6b73bfd7",
   "metadata": {},
   "source": [
    "## ALL and ANY\n"
   ]
  },
  {
   "cell_type": "markdown",
   "id": "6731fae1",
   "metadata": {},
   "source": [
    "<p> Used when you have alot of conditions. All or some of which needs to be satisfied </p>"
   ]
  },
  {
   "cell_type": "code",
   "execution_count": 39,
   "id": "1d73473c",
   "metadata": {},
   "outputs": [
    {
     "name": "stdout",
     "output_type": "stream",
     "text": [
      "ALL conditions satisfied\n"
     ]
    }
   ],
   "source": [
    "\n",
    "a = 5\n",
    "b = 7\n",
    "constraints = {a>2, a<10, b>3, b< 15}\n",
    "if all(constraints):\n",
    "    print('ALL conditions satisfied')\n",
    "    "
   ]
  },
  {
   "cell_type": "code",
   "execution_count": 40,
   "id": "512fcad7",
   "metadata": {},
   "outputs": [
    {
     "name": "stdout",
     "output_type": "stream",
     "text": [
      "Atleast one is satsified\n"
     ]
    }
   ],
   "source": [
    "if any(constraints): # used as OR Operator\n",
    "    print('Atleast one is satsified')"
   ]
  },
  {
   "cell_type": "code",
   "execution_count": 41,
   "id": "0685e245",
   "metadata": {},
   "outputs": [
    {
     "name": "stdout",
     "output_type": "stream",
     "text": [
      "All conditions satsified\n"
     ]
    }
   ],
   "source": [
    "if a>2 and a<10 and b>3 and b<15:\n",
    "    print('All conditions satsified')"
   ]
  },
  {
   "cell_type": "markdown",
   "id": "9601deb3",
   "metadata": {},
   "source": [
    "## Quantifiers"
   ]
  },
  {
   "cell_type": "code",
   "execution_count": 45,
   "id": "08de31b4",
   "metadata": {},
   "outputs": [
    {
     "data": {
      "text/plain": [
       "True"
      ]
     },
     "execution_count": 45,
     "metadata": {},
     "output_type": "execute_result"
    }
   ],
   "source": [
    "all([x<100 for x in range(0,100)])"
   ]
  },
  {
   "cell_type": "code",
   "execution_count": 46,
   "id": "5e20d4c3",
   "metadata": {},
   "outputs": [
    {
     "data": {
      "text/plain": [
       "True"
      ]
     },
     "execution_count": 46,
     "metadata": {},
     "output_type": "execute_result"
    }
   ],
   "source": [
    "any(x<100 for x in [99,100,101,102])"
   ]
  },
  {
   "cell_type": "markdown",
   "id": "3795bf0c",
   "metadata": {},
   "source": [
    "You can also use arbitrary functions in the scope."
   ]
  },
  {
   "cell_type": "code",
   "execution_count": 47,
   "id": "de61f907",
   "metadata": {},
   "outputs": [],
   "source": [
    "def is_div_by_20(n):\n",
    "    return n % 20 == 0"
   ]
  },
  {
   "cell_type": "code",
   "execution_count": 49,
   "id": "a8adff3b",
   "metadata": {},
   "outputs": [
    {
     "data": {
      "text/plain": [
       "True"
      ]
     },
     "execution_count": 49,
     "metadata": {},
     "output_type": "execute_result"
    }
   ],
   "source": [
    "test = [20,40,60,80,100]\n",
    "all(is_div_by_20(i) for i in test)"
   ]
  },
  {
   "cell_type": "code",
   "execution_count": 53,
   "id": "1436b13d",
   "metadata": {},
   "outputs": [
    {
     "data": {
      "text/plain": [
       "False"
      ]
     },
     "execution_count": 53,
     "metadata": {},
     "output_type": "execute_result"
    }
   ],
   "source": [
    "test2 = [10,20,30]\n",
    "all(is_div_by_20(i) for i in test2)"
   ]
  },
  {
   "cell_type": "code",
   "execution_count": 54,
   "id": "7e77dbe3",
   "metadata": {},
   "outputs": [
    {
     "data": {
      "text/plain": [
       "True"
      ]
     },
     "execution_count": 54,
     "metadata": {},
     "output_type": "execute_result"
    }
   ],
   "source": [
    "any(is_div_by_20(i) for i in test2)"
   ]
  },
  {
   "cell_type": "markdown",
   "id": "18ada1bc",
   "metadata": {},
   "source": [
    "## Counter \n",
    "###### A collection use to count objects in list or words in sentence"
   ]
  },
  {
   "cell_type": "code",
   "execution_count": 56,
   "id": "53b4dd59",
   "metadata": {},
   "outputs": [],
   "source": [
    "from collections import Counter\n",
    "cnt = Counter()"
   ]
  },
  {
   "cell_type": "code",
   "execution_count": 57,
   "id": "493aaf23",
   "metadata": {},
   "outputs": [],
   "source": [
    "for word in ['red','green','brown','red','red','brown']:\n",
    "    cnt[word] += 1"
   ]
  },
  {
   "cell_type": "code",
   "execution_count": 70,
   "id": "a3cfd982",
   "metadata": {},
   "outputs": [
    {
     "data": {
      "text/plain": [
       "'green'"
      ]
     },
     "execution_count": 70,
     "metadata": {},
     "output_type": "execute_result"
    }
   ],
   "source": [
    "cnt.most_common()[-1][0]"
   ]
  },
  {
   "cell_type": "code",
   "execution_count": null,
   "id": "061daa07",
   "metadata": {},
   "outputs": [],
   "source": []
  }
 ],
 "metadata": {
  "kernelspec": {
   "display_name": "Python 3 (ipykernel)",
   "language": "python",
   "name": "python3"
  },
  "language_info": {
   "codemirror_mode": {
    "name": "ipython",
    "version": 3
   },
   "file_extension": ".py",
   "mimetype": "text/x-python",
   "name": "python",
   "nbconvert_exporter": "python",
   "pygments_lexer": "ipython3",
   "version": "3.11.5"
  }
 },
 "nbformat": 4,
 "nbformat_minor": 5
}
