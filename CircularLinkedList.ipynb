{
 "cells": [
  {
   "cell_type": "code",
   "execution_count": 23,
   "id": "bbbd498a",
   "metadata": {},
   "outputs": [],
   "source": [
    "class Node:\n",
    "    def __init__(self,data):\n",
    "        self.val = data\n",
    "        self.next = None"
   ]
  },
  {
   "cell_type": "code",
   "execution_count": 24,
   "id": "cf8decce",
   "metadata": {},
   "outputs": [],
   "source": [
    "class RingList:\n",
    "    def __init__(self):\n",
    "        self.head = None"
   ]
  },
  {
   "cell_type": "code",
   "execution_count": 33,
   "id": "b0a005ec",
   "metadata": {},
   "outputs": [],
   "source": [
    "def __str__(self):\n",
    "    ret = '['\n",
    "    temp = self.head\n",
    "    while temp is not None:\n",
    "        ret += str(temp.val) + ', '\n",
    "        temp = temp.next\n",
    "        if temp == self.head:\n",
    "            break\n",
    "    ret = ret.rstrip(', ')\n",
    "    ret += ']'\n",
    "    return ret\n",
    "RingList.__str__ = __str__    "
   ]
  },
  {
   "cell_type": "code",
   "execution_count": 41,
   "id": "026b6489",
   "metadata": {},
   "outputs": [
    {
     "name": "stdout",
     "output_type": "stream",
     "text": [
      "[]\n"
     ]
    }
   ],
   "source": [
    "r = RingList()\n",
    "print(r)"
   ]
  },
  {
   "cell_type": "code",
   "execution_count": 42,
   "id": "9b3090a4",
   "metadata": {},
   "outputs": [],
   "source": [
    "def push(self,val):\n",
    "    node = Node(val)\n",
    "    temp = self.head\n",
    "    if self.head is None:\n",
    "        self.head = node\n",
    "        self.head.next = self.head\n",
    "    while temp is not None:\n",
    "        if temp.next == self.head:\n",
    "            temp.next = node\n",
    "            node.next = self.head\n",
    "            return\n",
    "        temp = temp.next\n",
    "RingList.push = push            "
   ]
  },
  {
   "cell_type": "code",
   "execution_count": 43,
   "id": "065018d2",
   "metadata": {},
   "outputs": [
    {
     "name": "stdout",
     "output_type": "stream",
     "text": [
      "[1, 2, 3, 4]\n"
     ]
    }
   ],
   "source": [
    "r.push(1)\n",
    "r.push(2)\n",
    "r.push(3)\n",
    "r.push(4)\n",
    "print(r)"
   ]
  },
  {
   "cell_type": "code",
   "execution_count": 49,
   "id": "753bd2a3",
   "metadata": {},
   "outputs": [
    {
     "data": {
      "text/plain": [
       "1"
      ]
     },
     "execution_count": 49,
     "metadata": {},
     "output_type": "execute_result"
    }
   ],
   "source": [
    "r.head.next.next.next.next.val"
   ]
  },
  {
   "cell_type": "code",
   "execution_count": 50,
   "id": "1f1bbac8",
   "metadata": {},
   "outputs": [],
   "source": [
    "def get_last(self):\n",
    "    if self.head is None: #no Node\n",
    "        return None\n",
    "    temp = self.head\n",
    "    while temp.next != self.head: #one or more nodes\n",
    "        temp = temp.next\n",
    "    return temp    \n",
    "RingList.get_last = get_last    "
   ]
  },
  {
   "cell_type": "code",
   "execution_count": 52,
   "id": "b3e2d1dc",
   "metadata": {},
   "outputs": [
    {
     "data": {
      "text/plain": [
       "4"
      ]
     },
     "execution_count": 52,
     "metadata": {},
     "output_type": "execute_result"
    }
   ],
   "source": [
    "r.get_last().val"
   ]
  },
  {
   "cell_type": "code",
   "execution_count": null,
   "id": "eacbe9e8",
   "metadata": {},
   "outputs": [],
   "source": [
    "def insert(self,index,val):\n",
    "    node = Node(val)\n",
    "    temp = self.head\n",
    "    last = self.get_last()\n",
    "    if self.head is None:\n",
    "        self.head = node\n",
    "        self.head.next = self.head\n",
    "    elif index == 0:\n",
    "        last.next = node\n",
    "        node.next = self.head\n",
    "        self.head = node\n",
    "    else:\n",
    "         "
   ]
  }
 ],
 "metadata": {
  "kernelspec": {
   "display_name": "Python 3 (ipykernel)",
   "language": "python",
   "name": "python3"
  },
  "language_info": {
   "codemirror_mode": {
    "name": "ipython",
    "version": 3
   },
   "file_extension": ".py",
   "mimetype": "text/x-python",
   "name": "python",
   "nbconvert_exporter": "python",
   "pygments_lexer": "ipython3",
   "version": "3.11.5"
  }
 },
 "nbformat": 4,
 "nbformat_minor": 5
}
