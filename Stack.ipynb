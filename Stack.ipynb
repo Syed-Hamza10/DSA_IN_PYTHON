{
 "cells": [
  {
   "cell_type": "code",
   "execution_count": 2,
   "id": "ed254755",
   "metadata": {},
   "outputs": [],
   "source": [
    "class Stack:\n",
    "    def __init__(self):\n",
    "        self.listi = []\n",
    "    def push(self,val):\n",
    "        self.listi.append(val)\n",
    "    def pop(self):\n",
    "        return self.listi.pop()\n",
    "    def peek(self):\n",
    "        return self.listi[-1]\n",
    "    def length(self):\n",
    "        count = 0\n",
    "        for i in self.listi:\n",
    "            count+=1\n",
    "        return count    "
   ]
  },
  {
   "cell_type": "code",
   "execution_count": 3,
   "id": "0a9c7515",
   "metadata": {},
   "outputs": [
    {
     "data": {
      "text/plain": [
       "4"
      ]
     },
     "execution_count": 3,
     "metadata": {},
     "output_type": "execute_result"
    }
   ],
   "source": [
    "s = Stack()\n",
    "s.push(1)\n",
    "s.push(2)\n",
    "s.push(3)\n",
    "s.push(4)\n",
    "s.peek()"
   ]
  },
  {
   "cell_type": "code",
   "execution_count": 60,
   "id": "4599579a",
   "metadata": {},
   "outputs": [],
   "source": [
    "st = Stack()\n",
    "def matching_brackets(string):\n",
    "    opening = '({['\n",
    "    closing = ')}]'\n",
    "    mapping = dict(zip(opening,closing))\n",
    "    for br in string:\n",
    "        if br not in opening and br not in closing:  #some numbers or operators like 5+7\n",
    "            continue\n",
    "        elif br in mapping: #meaning opening bracket\n",
    "            st.push(mapping[br]) #adding corresponding closing brackets in stack\n",
    "        elif st.length() == 0 or br != st.pop():\n",
    "            return False\n",
    "    return st.length() == 0"
   ]
  },
  {
   "cell_type": "code",
   "execution_count": 62,
   "id": "119530c3",
   "metadata": {},
   "outputs": [
    {
     "data": {
      "text/plain": [
       "False"
      ]
     },
     "execution_count": 62,
     "metadata": {},
     "output_type": "execute_result"
    }
   ],
   "source": [
    "matching_brackets('[{()}])')"
   ]
  },
  {
   "cell_type": "code",
   "execution_count": 81,
   "id": "f269ecb0",
   "metadata": {},
   "outputs": [],
   "source": [
    "def deci_to_bin(n):\n",
    "    stack = Stack()\n",
    "    while n:\n",
    "        remainder = n%2\n",
    "        n//=2\n",
    "        stack.push(remainder)\n",
    "    ret = ''\n",
    "    while stack.length() != 0:\n",
    "        ret += str(stack.pop())\n",
    "    return ret    "
   ]
  },
  {
   "cell_type": "code",
   "execution_count": 87,
   "id": "cb764385",
   "metadata": {},
   "outputs": [
    {
     "data": {
      "text/plain": [
       "'100'"
      ]
     },
     "execution_count": 87,
     "metadata": {},
     "output_type": "execute_result"
    }
   ],
   "source": [
    "deci_to_bin(4)"
   ]
  },
  {
   "cell_type": "markdown",
   "id": "680b1a00",
   "metadata": {},
   "source": [
    "<h4>Cache Coherence<h4>"
   ]
  },
  {
   "cell_type": "markdown",
   "id": "9cb445df",
   "metadata": {},
   "source": [
    "<p>Cache Coherence me jab <p>"
   ]
  },
  {
   "cell_type": "markdown",
   "id": "ad4d6bcd",
   "metadata": {},
   "source": [
    "c"
   ]
  },
  {
   "cell_type": "code",
   "execution_count": null,
   "id": "7212ca63",
   "metadata": {},
   "outputs": [],
   "source": []
  }
 ],
 "metadata": {
  "kernelspec": {
   "display_name": "Python 3 (ipykernel)",
   "language": "python",
   "name": "python3"
  },
  "language_info": {
   "codemirror_mode": {
    "name": "ipython",
    "version": 3
   },
   "file_extension": ".py",
   "mimetype": "text/x-python",
   "name": "python",
   "nbconvert_exporter": "python",
   "pygments_lexer": "ipython3",
   "version": "3.11.5"
  }
 },
 "nbformat": 4,
 "nbformat_minor": 5
}
